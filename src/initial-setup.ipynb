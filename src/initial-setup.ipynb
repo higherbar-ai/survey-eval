{
 "cells": [
  {
   "metadata": {},
   "cell_type": "markdown",
   "source": [
    "# Python environment set-up\n",
    "\n",
    "Run this notebook to install the required packages and system dependencies for this project. \n",
    "\n",
    "Note that you'll also need to have the AWS CLI installed and configured if you are accessing models via AWS Bedrock."
   ],
   "id": "2e7f2e4b619c95bb"
  },
  {
   "cell_type": "code",
   "id": "initial_id",
   "metadata": {
    "collapsed": true
   },
   "source": [
    "# ensure that all packages in requirements.txt have been installed\n",
    "!pip install -r ../requirements.txt\n",
    "\n",
    "# download NLTK data\n",
    "import nltk\n",
    "nltk.download('punkt', force=True)\n",
    "\n",
    "# install required system dependencies\n",
    "import platform\n",
    "import subprocess\n",
    "system = platform.system().lower()\n",
    "\n",
    "if system == 'linux':\n",
    "    # Debian/Ubuntu\n",
    "    try:\n",
    "        subprocess.run(['apt-get', 'update'])\n",
    "        subprocess.run(['apt-get', 'install', '-y', 'libreoffice'])\n",
    "    except:\n",
    "        print(\"Please install manually: libreoffice\")\n",
    "elif system == 'darwin':  # macOS\n",
    "    try:\n",
    "        # check if Homebrew is installed\n",
    "        subprocess.run(['brew', '--version'])\n",
    "        # install dependencies\n",
    "        subprocess.run(['brew', 'install', 'libreoffice'])\n",
    "    except:\n",
    "        print(\"Please install Homebrew first: https://brew.sh/\")\n",
    "        print(\"Then install: libreoffice\")\n",
    "elif system == 'windows':\n",
    "    try:\n",
    "        # check if Chocolatey is installed\n",
    "        subprocess.run(['choco', '--version'])\n",
    "        # install dependencies\n",
    "        subprocess.run(['choco', 'install', '-y', 'libreoffice'])\n",
    "    except:\n",
    "        print(\"Please install Chocolatey first: https://chocolatey.org/\")\n",
    "        print(\"Then install: libreoffice\")"
   ],
   "outputs": [],
   "execution_count": null
  }
 ],
 "metadata": {
  "kernelspec": {
   "display_name": "Python 3",
   "language": "python",
   "name": "python3"
  },
  "language_info": {
   "codemirror_mode": {
    "name": "ipython",
    "version": 2
   },
   "file_extension": ".py",
   "mimetype": "text/x-python",
   "name": "python",
   "nbconvert_exporter": "python",
   "pygments_lexer": "ipython2",
   "version": "2.7.6"
  }
 },
 "nbformat": 4,
 "nbformat_minor": 5
}
